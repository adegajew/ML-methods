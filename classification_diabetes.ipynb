{
 "cells": [
  {
   "cell_type": "markdown",
   "metadata": {
    "tags": []
   },
   "source": [
    "# Classification methods on diabetes"
   ]
  },
  {
   "cell_type": "markdown",
   "metadata": {},
   "source": [
    "This workbook is to try different classification methods on diabetes dataset (predict wheather on not a patient has diabetes based on other measures)\n",
    "\n",
    "Data is from Pima Indians Diabetes Dataset that can be downloaded from Kaggle https://www.kaggle.com/uciml/pima-indians-diabetes-database\n",
    "\n",
    "Workbook contains: [ k-Nearest Neighbors](#hd1), [confusion matrix](#hd2), [logistic regression for binary classification](#hd3), [ROC](#hd4), [parameter tuning](#hd5), [Pipeline](#hd6), [handling missing data](#hd7), [scaling](#hd8), [ensemble methods](#hd9), [bagging](#hd10)"
   ]
  },
  {
   "cell_type": "code",
   "execution_count": 1,
   "metadata": {},
   "outputs": [],
   "source": [
    "import pandas as pd\n",
    "import numpy as np\n",
    "import matplotlib.pyplot as plt\n",
    "\n",
    "from sklearn.neighbors import KNeighborsClassifier\n",
    "from sklearn.model_selection import train_test_split\n",
    "from sklearn.metrics import classification_report\n",
    "from sklearn.metrics import confusion_matrix\n",
    "from sklearn.linear_model import LogisticRegression\n",
    "from sklearn.metrics import roc_curve\n",
    "from sklearn.metrics import roc_auc_score\n",
    "from sklearn.model_selection import cross_val_score\n",
    "from sklearn.model_selection import GridSearchCV\n",
    "from scipy.stats import randint #to generate random numbers\n",
    "from sklearn.tree import DecisionTreeClassifier\n",
    "from sklearn.model_selection import RandomizedSearchCV\n",
    "from sklearn.impute import SimpleImputer\n",
    "from sklearn.svm import SVC\n",
    "from sklearn.pipeline import Pipeline\n",
    "from sklearn.preprocessing import scale\n",
    "from sklearn.preprocessing import StandardScaler\n",
    "from sklearn.ensemble import VotingClassifier\n",
    "from sklearn.metrics import f1_score\n",
    "from sklearn.metrics import accuracy_score\n",
    "from sklearn.ensemble import BaggingClassifier"
   ]
  },
  {
   "cell_type": "code",
   "execution_count": 2,
   "metadata": {},
   "outputs": [],
   "source": [
    "#load dataset from csv\n",
    "\n",
    "df = pd.read_csv(r'datasets\\diabetes.csv', header=0)\n",
    "#df.head(5)"
   ]
  },
  {
   "cell_type": "code",
   "execution_count": 3,
   "metadata": {},
   "outputs": [
    {
     "name": "stdout",
     "output_type": "stream",
     "text": [
      "<class 'pandas.core.frame.DataFrame'>\n",
      "RangeIndex: 768 entries, 0 to 767\n",
      "Data columns (total 9 columns):\n",
      " #   Column                    Non-Null Count  Dtype  \n",
      "---  ------                    --------------  -----  \n",
      " 0   Pregnancies               768 non-null    int64  \n",
      " 1   Glucose                   768 non-null    int64  \n",
      " 2   BloodPressure             768 non-null    int64  \n",
      " 3   SkinThickness             768 non-null    int64  \n",
      " 4   Insulin                   768 non-null    int64  \n",
      " 5   BMI                       768 non-null    float64\n",
      " 6   DiabetesPedigreeFunction  768 non-null    float64\n",
      " 7   Age                       768 non-null    int64  \n",
      " 8   Outcome                   768 non-null    int64  \n",
      "dtypes: float64(2), int64(7)\n",
      "memory usage: 54.1 KB\n"
     ]
    }
   ],
   "source": [
    "df.info()"
   ]
  },
  {
   "cell_type": "code",
   "execution_count": 4,
   "metadata": {
    "scrolled": true
   },
   "outputs": [
    {
     "data": {
      "text/html": [
       "<div>\n",
       "<style scoped>\n",
       "    .dataframe tbody tr th:only-of-type {\n",
       "        vertical-align: middle;\n",
       "    }\n",
       "\n",
       "    .dataframe tbody tr th {\n",
       "        vertical-align: top;\n",
       "    }\n",
       "\n",
       "    .dataframe thead th {\n",
       "        text-align: right;\n",
       "    }\n",
       "</style>\n",
       "<table border=\"1\" class=\"dataframe\">\n",
       "  <thead>\n",
       "    <tr style=\"text-align: right;\">\n",
       "      <th></th>\n",
       "      <th>Pregnancies</th>\n",
       "      <th>Glucose</th>\n",
       "      <th>BloodPressure</th>\n",
       "      <th>SkinThickness</th>\n",
       "      <th>Insulin</th>\n",
       "      <th>BMI</th>\n",
       "      <th>DiabetesPedigreeFunction</th>\n",
       "      <th>Age</th>\n",
       "      <th>Outcome</th>\n",
       "    </tr>\n",
       "  </thead>\n",
       "  <tbody>\n",
       "    <tr>\n",
       "      <th>count</th>\n",
       "      <td>768.000000</td>\n",
       "      <td>768.000000</td>\n",
       "      <td>768.000000</td>\n",
       "      <td>768.000000</td>\n",
       "      <td>768.000000</td>\n",
       "      <td>768.000000</td>\n",
       "      <td>768.000000</td>\n",
       "      <td>768.000000</td>\n",
       "      <td>768.000000</td>\n",
       "    </tr>\n",
       "    <tr>\n",
       "      <th>mean</th>\n",
       "      <td>3.845052</td>\n",
       "      <td>120.894531</td>\n",
       "      <td>69.105469</td>\n",
       "      <td>20.536458</td>\n",
       "      <td>79.799479</td>\n",
       "      <td>31.992578</td>\n",
       "      <td>0.471876</td>\n",
       "      <td>33.240885</td>\n",
       "      <td>0.348958</td>\n",
       "    </tr>\n",
       "    <tr>\n",
       "      <th>std</th>\n",
       "      <td>3.369578</td>\n",
       "      <td>31.972618</td>\n",
       "      <td>19.355807</td>\n",
       "      <td>15.952218</td>\n",
       "      <td>115.244002</td>\n",
       "      <td>7.884160</td>\n",
       "      <td>0.331329</td>\n",
       "      <td>11.760232</td>\n",
       "      <td>0.476951</td>\n",
       "    </tr>\n",
       "    <tr>\n",
       "      <th>min</th>\n",
       "      <td>0.000000</td>\n",
       "      <td>0.000000</td>\n",
       "      <td>0.000000</td>\n",
       "      <td>0.000000</td>\n",
       "      <td>0.000000</td>\n",
       "      <td>0.000000</td>\n",
       "      <td>0.078000</td>\n",
       "      <td>21.000000</td>\n",
       "      <td>0.000000</td>\n",
       "    </tr>\n",
       "    <tr>\n",
       "      <th>25%</th>\n",
       "      <td>1.000000</td>\n",
       "      <td>99.000000</td>\n",
       "      <td>62.000000</td>\n",
       "      <td>0.000000</td>\n",
       "      <td>0.000000</td>\n",
       "      <td>27.300000</td>\n",
       "      <td>0.243750</td>\n",
       "      <td>24.000000</td>\n",
       "      <td>0.000000</td>\n",
       "    </tr>\n",
       "    <tr>\n",
       "      <th>50%</th>\n",
       "      <td>3.000000</td>\n",
       "      <td>117.000000</td>\n",
       "      <td>72.000000</td>\n",
       "      <td>23.000000</td>\n",
       "      <td>30.500000</td>\n",
       "      <td>32.000000</td>\n",
       "      <td>0.372500</td>\n",
       "      <td>29.000000</td>\n",
       "      <td>0.000000</td>\n",
       "    </tr>\n",
       "    <tr>\n",
       "      <th>75%</th>\n",
       "      <td>6.000000</td>\n",
       "      <td>140.250000</td>\n",
       "      <td>80.000000</td>\n",
       "      <td>32.000000</td>\n",
       "      <td>127.250000</td>\n",
       "      <td>36.600000</td>\n",
       "      <td>0.626250</td>\n",
       "      <td>41.000000</td>\n",
       "      <td>1.000000</td>\n",
       "    </tr>\n",
       "    <tr>\n",
       "      <th>max</th>\n",
       "      <td>17.000000</td>\n",
       "      <td>199.000000</td>\n",
       "      <td>122.000000</td>\n",
       "      <td>99.000000</td>\n",
       "      <td>846.000000</td>\n",
       "      <td>67.100000</td>\n",
       "      <td>2.420000</td>\n",
       "      <td>81.000000</td>\n",
       "      <td>1.000000</td>\n",
       "    </tr>\n",
       "  </tbody>\n",
       "</table>\n",
       "</div>"
      ],
      "text/plain": [
       "       Pregnancies     Glucose  BloodPressure  SkinThickness     Insulin  \\\n",
       "count   768.000000  768.000000     768.000000     768.000000  768.000000   \n",
       "mean      3.845052  120.894531      69.105469      20.536458   79.799479   \n",
       "std       3.369578   31.972618      19.355807      15.952218  115.244002   \n",
       "min       0.000000    0.000000       0.000000       0.000000    0.000000   \n",
       "25%       1.000000   99.000000      62.000000       0.000000    0.000000   \n",
       "50%       3.000000  117.000000      72.000000      23.000000   30.500000   \n",
       "75%       6.000000  140.250000      80.000000      32.000000  127.250000   \n",
       "max      17.000000  199.000000     122.000000      99.000000  846.000000   \n",
       "\n",
       "              BMI  DiabetesPedigreeFunction         Age     Outcome  \n",
       "count  768.000000                768.000000  768.000000  768.000000  \n",
       "mean    31.992578                  0.471876   33.240885    0.348958  \n",
       "std      7.884160                  0.331329   11.760232    0.476951  \n",
       "min      0.000000                  0.078000   21.000000    0.000000  \n",
       "25%     27.300000                  0.243750   24.000000    0.000000  \n",
       "50%     32.000000                  0.372500   29.000000    0.000000  \n",
       "75%     36.600000                  0.626250   41.000000    1.000000  \n",
       "max     67.100000                  2.420000   81.000000    1.000000  "
      ]
     },
     "execution_count": 4,
     "metadata": {},
     "output_type": "execute_result"
    }
   ],
   "source": [
    "df.describe()"
   ]
  },
  {
   "cell_type": "code",
   "execution_count": 5,
   "metadata": {},
   "outputs": [
    {
     "name": "stdout",
     "output_type": "stream",
     "text": [
      "Statistics=0.819, p=0.0000\n"
     ]
    }
   ],
   "source": [
    "#if normal disttribution\n",
    "\n",
    "#shapiro-wilk test for normality\n",
    "#null hypothesis: data was drawn from a normal distribution\n",
    "\n",
    "from scipy.stats import shapiro\n",
    "stat, p = shapiro(df['BloodPressure'])\n",
    "print('Statistics=%.3f, p=%.4f' % (stat, p))"
   ]
  },
  {
   "cell_type": "markdown",
   "metadata": {},
   "source": [
    "# k-Nearest Neighbors <a id='hd1'></a>"
   ]
  },
  {
   "cell_type": "code",
   "execution_count": 6,
   "metadata": {},
   "outputs": [],
   "source": [
    "#k-Nearest Neighbors\n",
    "#create arrays for the features and target\n",
    "y = df['Outcome'].values\n",
    "x = df.drop('Outcome', axis=1).values"
   ]
  },
  {
   "cell_type": "code",
   "execution_count": 7,
   "metadata": {},
   "outputs": [],
   "source": [
    "#split into train & test\n",
    "#stratify argument - to make sure labels are distributed in test & train as they are in the whole dataset\n",
    "\n",
    "x_train, x_test, y_train, y_test = train_test_split(x, y, test_size = 0.3, random_state = 2, stratify = y)"
   ]
  },
  {
   "cell_type": "code",
   "execution_count": 8,
   "metadata": {},
   "outputs": [],
   "source": [
    "#create k-NN clasifier with n neighbors\n",
    "knn = KNeighborsClassifier(n_neighbors = 6)"
   ]
  },
  {
   "cell_type": "code",
   "execution_count": 9,
   "metadata": {},
   "outputs": [
    {
     "data": {
      "text/plain": [
       "KNeighborsClassifier(n_neighbors=6)"
      ]
     },
     "execution_count": 9,
     "metadata": {},
     "output_type": "execute_result"
    }
   ],
   "source": [
    "#fit the classifier\n",
    "knn.fit(x_train, y_train)"
   ]
  },
  {
   "cell_type": "code",
   "execution_count": 10,
   "metadata": {},
   "outputs": [],
   "source": [
    "#predict labels of test data\n",
    "y_pred = knn.predict(x_test)"
   ]
  },
  {
   "cell_type": "code",
   "execution_count": 11,
   "metadata": {},
   "outputs": [
    {
     "data": {
      "text/plain": [
       "0.7619047619047619"
      ]
     },
     "execution_count": 11,
     "metadata": {},
     "output_type": "execute_result"
    }
   ],
   "source": [
    "#accuracy\n",
    "knn.score(x_test, y_test)"
   ]
  },
  {
   "cell_type": "code",
   "execution_count": 12,
   "metadata": {},
   "outputs": [],
   "source": [
    "#plotting train & test accuracy for different neighbor values\n",
    "\n",
    "#arrays to store accuracies\n",
    "neighbors = np.arange(1, 10)\n",
    "train_accy = np.empty(len(neighbors)) \n",
    "test_accy = np.empty(len(neighbors))\n",
    "\n",
    "for i, k in enumerate (neighbors):\n",
    "    #k-NN calssifier with k neighbors\n",
    "    knn = KNeighborsClassifier(n_neighbors = k)\n",
    "    \n",
    "    #fit the classifier\n",
    "    knn.fit(x_train, y_train)\n",
    "    \n",
    "    #accuracy on train\n",
    "    train_accy[i] = knn.score(x_train, y_train)\n",
    "    \n",
    "    #accuracy on test\n",
    "    test_accy[i] = knn.score(x_test, y_test)"
   ]
  },
  {
   "cell_type": "code",
   "execution_count": 13,
   "metadata": {},
   "outputs": [
    {
     "data": {
      "image/png": "[encoded data removed]",
      "text/plain": [
       "<Figure size 432x288 with 1 Axes>"
      ]
     },
     "metadata": {
      "needs_background": "light"
     },
     "output_type": "display_data"
    }
   ],
   "source": [
    "plt.title('k-NN number of neighbors')\n",
    "plt.plot(neighbors, train_accy, label = 'Train Accy')\n",
    "plt.plot(neighbors, test_accy, label = 'Test Accy')\n",
    "plt.legend()\n",
    "plt.xlabel('number of neighbors')\n",
    "plt.ylabel('accuracy')\n",
    "plt.show()"
   ]
  },
  {
   "cell_type": "markdown",
   "metadata": {},
   "source": [
    "### confusion matrix <a id='hd2'></a>"
   ]
  },
  {
   "cell_type": "code",
   "execution_count": 14,
   "metadata": {},
   "outputs": [
    {
     "name": "stdout",
     "output_type": "stream",
     "text": [
      "[[140  10]\n",
      " [ 45  36]]\n",
      "              precision    recall  f1-score   support\n",
      "\n",
      "           0       0.76      0.93      0.84       150\n",
      "           1       0.78      0.44      0.57        81\n",
      "\n",
      "    accuracy                           0.76       231\n",
      "   macro avg       0.77      0.69      0.70       231\n",
      "weighted avg       0.77      0.76      0.74       231\n",
      "\n"
     ]
    }
   ],
   "source": [
    "#confusion matrix to understand performance of the classifier\n",
    "\n",
    "print(confusion_matrix(y_test, y_pred))\n",
    "print(classification_report(y_test, y_pred))"
   ]
  },
  {
   "cell_type": "markdown",
   "metadata": {},
   "source": [
    "# logistic regression for binary classification<a id='hd3'></a>"
   ]
  },
  {
   "cell_type": "code",
   "execution_count": 15,
   "metadata": {},
   "outputs": [
    {
     "name": "stdout",
     "output_type": "stream",
     "text": [
      "[[139  11]\n",
      " [ 41  40]]\n",
      "              precision    recall  f1-score   support\n",
      "\n",
      "           0       0.77      0.93      0.84       150\n",
      "           1       0.78      0.49      0.61        81\n",
      "\n",
      "    accuracy                           0.77       231\n",
      "   macro avg       0.78      0.71      0.72       231\n",
      "weighted avg       0.78      0.77      0.76       231\n",
      "\n"
     ]
    }
   ],
   "source": [
    "#classifier\n",
    "#log_reg = LogisticRegression()\n",
    "#increase the number of iterations to help the algorithm to converge\n",
    "log_reg = LogisticRegression(solver='lbfgs', max_iter=400)\n",
    "\n",
    "#fit to train data\n",
    "log_reg.fit(x_train, y_train)\n",
    "\n",
    "#predict labels of test data\n",
    "y_pred = log_reg.predict(x_test)\n",
    "\n",
    "print(confusion_matrix(y_test, y_pred))\n",
    "print(classification_report(y_test, y_pred))"
   ]
  },
  {
   "cell_type": "markdown",
   "metadata": {},
   "source": [
    "### ROC<a id='hd4'></a>"
   ]
  },
  {
   "cell_type": "code",
   "execution_count": 16,
   "metadata": {},
   "outputs": [],
   "source": [
    "#ROC curve\n",
    "\n",
    "#predict_proba - probability of a given sample being in a particular class\n",
    "y_pred_prob = log_reg.predict_proba(x_test)[:,1]\n",
    "\n",
    "#generate ROC values\n",
    "#fpr - false positive rate\n",
    "#tpr - true positive rate\n",
    "fpr, tpr, thresholds = roc_curve(y_test, y_pred_prob)"
   ]
  },
  {
   "cell_type": "code",
   "execution_count": 17,
   "metadata": {},
   "outputs": [
    {
     "data": {
      "image/png": "[encoded data removed]",
      "text/plain": [
       "<Figure size 432x288 with 1 Axes>"
      ]
     },
     "metadata": {
      "needs_background": "light"
     },
     "output_type": "display_data"
    }
   ],
   "source": [
    "#plot ROC curve\n",
    "#fpr on x-axis & tpr on y-axis\n",
    "\n",
    "plt.plot([0,1], [0,1], 'k--')\n",
    "plt.plot(fpr, tpr)\n",
    "plt.xlabel('false positive rate')\n",
    "plt.ylabel('true positive rate')\n",
    "plt.title('ROC curve')\n",
    "plt.show()"
   ]
  },
  {
   "cell_type": "code",
   "execution_count": 18,
   "metadata": {},
   "outputs": [
    {
     "name": "stdout",
     "output_type": "stream",
     "text": [
      "AUC: 0.8153086419753086\n"
     ]
    }
   ],
   "source": [
    "#calculate AUC area under ROC curve\n",
    "#on test set & predicted probabilities\n",
    "auc = roc_auc_score(y_test, y_pred_prob)\n",
    "print('AUC: {}'.format(auc))"
   ]
  },
  {
   "cell_type": "code",
   "execution_count": 19,
   "metadata": {},
   "outputs": [
    {
     "name": "stdout",
     "output_type": "stream",
     "text": [
      "[0.81240741 0.80777778 0.82574074 0.87283019 0.84471698]\n"
     ]
    }
   ],
   "source": [
    "#AUC after 5-fold cross-validation\n",
    "#cross-validation\n",
    "cv_auc = cross_val_score(log_reg, x, y, cv=5,\n",
    "                        scoring = 'roc_auc')\n",
    "print(cv_auc)"
   ]
  },
  {
   "cell_type": "markdown",
   "metadata": {},
   "source": [
    "# parameter tuning<a id='hd5'></a>"
   ]
  },
  {
   "cell_type": "code",
   "execution_count": 20,
   "metadata": {},
   "outputs": [
    {
     "name": "stdout",
     "output_type": "stream",
     "text": [
      "{'C': 0.006105402296585327}\n",
      "0.7734742381801205\n"
     ]
    }
   ],
   "source": [
    "#Grid search cv\n",
    "#logistic regression has parameter C that controls the inverse of the regularization strength\n",
    "\n",
    "#gridsearch to find optimal c in hyperparameter space, set up grid as a dict where keys are hyperparameter names + values are list of values to choose\n",
    "c_space = np.logspace(-5, 8, 15)\n",
    "param_grid = {'C': c_space}\n",
    "\n",
    "#grid search cv, logistic regression classifier from the model + grid to tune over + no of folds\n",
    "log_reg_cv = GridSearchCV(log_reg, param_grid, cv = 5)\n",
    "\n",
    "#fit grid object to data, the actual grid search\n",
    "log_reg_cv.fit(x, y)\n",
    "\n",
    "#show best parameter & best score by accessing the attributes\n",
    "print(log_reg_cv.best_params_)\n",
    "print(log_reg_cv.best_score_)"
   ]
  },
  {
   "cell_type": "code",
   "execution_count": 21,
   "metadata": {},
   "outputs": [
    {
     "name": "stdout",
     "output_type": "stream",
     "text": [
      "{'criterion': 'entropy', 'max_depth': 3, 'max_features': 7, 'min_samples_leaf': 4}\n",
      "0.7396316102198455\n"
     ]
    }
   ],
   "source": [
    "#Randomized seach\n",
    "#not all hyperparameter values are tested\n",
    "\n",
    "#tune parameters of Decision Tree\n",
    "#specify parameters & distributions to sample from\n",
    "param_distributions = {'max_features': randint(1,9), \n",
    "              'max_depth': [3, None],\n",
    "              'min_samples_leaf': randint(1,9),\n",
    "              'criterion': ['gini', 'entropy']}\n",
    "\n",
    "#Decision Tree classifier\n",
    "decision_tree = DecisionTreeClassifier()\n",
    "\n",
    "#randomized search cv\n",
    "decision_tree_cv = RandomizedSearchCV(decision_tree, param_distributions, cv = 5)\n",
    "\n",
    "#fit to data\n",
    "decision_tree_cv.fit(x, y)\n",
    "\n",
    "#show best parameter & best score\n",
    "print(decision_tree_cv.best_params_)\n",
    "print(decision_tree_cv.best_score_)"
   ]
  },
  {
   "cell_type": "code",
   "execution_count": 22,
   "metadata": {},
   "outputs": [
    {
     "name": "stdout",
     "output_type": "stream",
     "text": [
      "{'C': 0.4393970560760795}\n",
      "0.780373831775701\n"
     ]
    }
   ],
   "source": [
    "#same as above but with evaluation on unseen data\n",
    "\n",
    "#logistic regression grid search c\n",
    "param_grid = {'C': c_space}\n",
    "\n",
    "#if introduce more parameters:\n",
    "#param_grid = {'C': c_space, 'penalty': ['l1', 'l2']}\n",
    "\n",
    "x_train, x_test, y_train, y_test = train_test_split(x, y, test_size = 0.3, random_state = 2)\n",
    "\n",
    "log_reg_cv = GridSearchCV(log_reg, param_grid, cv = 5)\n",
    "\n",
    "#fit to train data only\n",
    "log_reg_cv.fit(x_train, y_train)\n",
    "\n",
    "#show best parameter & best score by accessing the attributes\n",
    "print(log_reg_cv.best_params_)\n",
    "print(log_reg_cv.best_score_)"
   ]
  },
  {
   "cell_type": "markdown",
   "metadata": {},
   "source": [
    "# Pipeline<a id='hd6'></a>\n",
    "\n",
    "### handling missing data<a id='hd7'></a>"
   ]
  },
  {
   "cell_type": "code",
   "execution_count": 23,
   "metadata": {},
   "outputs": [
    {
     "data": {
      "text/html": [
       "<div>\n",
       "<style scoped>\n",
       "    .dataframe tbody tr th:only-of-type {\n",
       "        vertical-align: middle;\n",
       "    }\n",
       "\n",
       "    .dataframe tbody tr th {\n",
       "        vertical-align: top;\n",
       "    }\n",
       "\n",
       "    .dataframe thead th {\n",
       "        text-align: right;\n",
       "    }\n",
       "</style>\n",
       "<table border=\"1\" class=\"dataframe\">\n",
       "  <thead>\n",
       "    <tr style=\"text-align: right;\">\n",
       "      <th></th>\n",
       "      <th>Pregnancies</th>\n",
       "      <th>Glucose</th>\n",
       "      <th>BloodPressure</th>\n",
       "      <th>SkinThickness</th>\n",
       "      <th>Insulin</th>\n",
       "      <th>BMI</th>\n",
       "      <th>DiabetesPedigreeFunction</th>\n",
       "      <th>Age</th>\n",
       "      <th>Outcome</th>\n",
       "    </tr>\n",
       "  </thead>\n",
       "  <tbody>\n",
       "    <tr>\n",
       "      <th>765</th>\n",
       "      <td>5</td>\n",
       "      <td>121</td>\n",
       "      <td>72</td>\n",
       "      <td>23</td>\n",
       "      <td>112</td>\n",
       "      <td>26.2</td>\n",
       "      <td>0.245</td>\n",
       "      <td>30</td>\n",
       "      <td>0</td>\n",
       "    </tr>\n",
       "    <tr>\n",
       "      <th>766</th>\n",
       "      <td>1</td>\n",
       "      <td>126</td>\n",
       "      <td>60</td>\n",
       "      <td>0</td>\n",
       "      <td>0</td>\n",
       "      <td>30.1</td>\n",
       "      <td>0.349</td>\n",
       "      <td>47</td>\n",
       "      <td>1</td>\n",
       "    </tr>\n",
       "    <tr>\n",
       "      <th>767</th>\n",
       "      <td>1</td>\n",
       "      <td>93</td>\n",
       "      <td>70</td>\n",
       "      <td>31</td>\n",
       "      <td>0</td>\n",
       "      <td>30.4</td>\n",
       "      <td>0.315</td>\n",
       "      <td>23</td>\n",
       "      <td>0</td>\n",
       "    </tr>\n",
       "  </tbody>\n",
       "</table>\n",
       "</div>"
      ],
      "text/plain": [
       "     Pregnancies  Glucose  BloodPressure  SkinThickness  Insulin   BMI  \\\n",
       "765            5      121             72             23      112  26.2   \n",
       "766            1      126             60              0        0  30.1   \n",
       "767            1       93             70             31        0  30.4   \n",
       "\n",
       "     DiabetesPedigreeFunction  Age  Outcome  \n",
       "765                     0.245   30        0  \n",
       "766                     0.349   47        1  \n",
       "767                     0.315   23        0  "
      ]
     },
     "execution_count": 23,
     "metadata": {},
     "output_type": "execute_result"
    }
   ],
   "source": [
    "#some metrics don't have accurate data, ex. 0\n",
    "#replace 0 to NaN where applicable\n",
    "df_nan = df\n",
    "df_nan.tail(3)"
   ]
  },
  {
   "cell_type": "code",
   "execution_count": 24,
   "metadata": {},
   "outputs": [
    {
     "name": "stdout",
     "output_type": "stream",
     "text": [
      "Pregnancies                   0\n",
      "Glucose                       0\n",
      "BloodPressure                 0\n",
      "SkinThickness               227\n",
      "Insulin                     374\n",
      "BMI                          11\n",
      "DiabetesPedigreeFunction      0\n",
      "Age                           0\n",
      "Outcome                       0\n",
      "dtype: int64\n"
     ]
    }
   ],
   "source": [
    "df_nan.Insulin.replace(0, np.nan, inplace = True)\n",
    "df_nan.SkinThickness.replace(0, np.nan, inplace = True)\n",
    "df_nan.BMI.replace(0, np.nan, inplace = True)\n",
    "\n",
    "#if change '?' in df to NaN\n",
    "#df[df =='?'] = np.nan\n",
    "\n",
    "df_nan.shape\n",
    "print(df_nan.isnull().sum())"
   ]
  },
  {
   "cell_type": "code",
   "execution_count": 25,
   "metadata": {},
   "outputs": [
    {
     "data": {
      "text/plain": [
       "(393, 9)"
      ]
     },
     "execution_count": 25,
     "metadata": {},
     "output_type": "execute_result"
    }
   ],
   "source": [
    "df_dropna = df_nan.dropna()\n",
    "df_dropna.shape"
   ]
  },
  {
   "cell_type": "markdown",
   "metadata": {},
   "source": [
    "### handling missing data within a pipeline"
   ]
  },
  {
   "cell_type": "code",
   "execution_count": 26,
   "metadata": {},
   "outputs": [],
   "source": [
    "#imputing missing data\n",
    "#set up imputer, impute missing data with most frequent value in columns\n",
    "imputer = SimpleImputer(missing_values = np.nan, strategy = 'most_frequent')\n",
    "\n",
    "#SVC classifier\n",
    "svc = SVC()\n",
    "\n",
    "#set up required steps of the pipeline\n",
    "steps = [('imputation', imputer), \n",
    "        ('SVC', svc)]\n",
    "\n",
    "#create the pipeline\n",
    "pipeline = Pipeline(steps)"
   ]
  },
  {
   "cell_type": "code",
   "execution_count": 27,
   "metadata": {},
   "outputs": [
    {
     "name": "stdout",
     "output_type": "stream",
     "text": [
      "0.7489177489177489\n",
      "              precision    recall  f1-score   support\n",
      "\n",
      "           0       0.76      0.92      0.83       155\n",
      "           1       0.71      0.39      0.51        76\n",
      "\n",
      "    accuracy                           0.75       231\n",
      "   macro avg       0.74      0.66      0.67       231\n",
      "weighted avg       0.74      0.75      0.73       231\n",
      "\n"
     ]
    }
   ],
   "source": [
    "#train-test split\n",
    "#fit pipeline to train data\n",
    "pipeline.fit(x_train, y_train)\n",
    "\n",
    "#predict on test data\n",
    "y_pred = pipeline.predict(x_test)\n",
    "\n",
    "#show accuracy & classification report\n",
    "print(pipeline.score(x_test, y_test))\n",
    "print(classification_report(y_test, y_pred))"
   ]
  },
  {
   "cell_type": "markdown",
   "metadata": {},
   "source": [
    "### scaling<a id='hd8'></a>"
   ]
  },
  {
   "cell_type": "code",
   "execution_count": 28,
   "metadata": {},
   "outputs": [
    {
     "name": "stdout",
     "output_type": "stream",
     "text": [
      "44.98579117838542\n",
      "58.37297131925462\n",
      "8.86154575644819e-17\n",
      "1.0\n"
     ]
    }
   ],
   "source": [
    "#scale the features\n",
    "\n",
    "x_scale = scale(x)\n",
    "print(np.mean(x))\n",
    "print(np.std(x))\n",
    "print(np.mean(x_scale))\n",
    "print(np.std(x_scale))"
   ]
  },
  {
   "cell_type": "code",
   "execution_count": 29,
   "metadata": {},
   "outputs": [
    {
     "name": "stdout",
     "output_type": "stream",
     "text": [
      "0.7359307359307359\n",
      "0.7922077922077922\n"
     ]
    }
   ],
   "source": [
    "#scaling in the pipeline\n",
    "\n",
    "#steps, scaler as a step\n",
    "steps = [('scaler', StandardScaler()), \n",
    "        ('knn', KNeighborsClassifier())]\n",
    "\n",
    "#pipeline\n",
    "pipeline = Pipeline(steps)\n",
    "\n",
    "#fit pipeline to train data\n",
    "knn_scale = pipeline.fit(x_train, y_train)\n",
    "\n",
    "#compare scale & unscaled\n",
    "print(knn_scale.score(x_test, y_test))\n",
    "print(knn.score(x_test, y_test))"
   ]
  },
  {
   "cell_type": "code",
   "execution_count": 30,
   "metadata": {},
   "outputs": [
    {
     "name": "stdout",
     "output_type": "stream",
     "text": [
      "0.7619047619047619\n",
      "              precision    recall  f1-score   support\n",
      "\n",
      "           0       0.78      0.90      0.84       155\n",
      "           1       0.71      0.47      0.57        76\n",
      "\n",
      "    accuracy                           0.76       231\n",
      "   macro avg       0.74      0.69      0.70       231\n",
      "weighted avg       0.75      0.76      0.75       231\n",
      "\n"
     ]
    },
    {
     "data": {
      "text/plain": [
       "{'SVC__C': 1, 'SVC__gamma': 0.01}"
      ]
     },
     "execution_count": 30,
     "metadata": {},
     "output_type": "execute_result"
    }
   ],
   "source": [
    "#scaling & hyperparameter tuning in a pipeline\n",
    "steps = [('scaler', StandardScaler()), \n",
    "        ('SVC', SVC())]\n",
    "\n",
    "pipeline = Pipeline(steps)\n",
    "\n",
    "#set up hyperparameter space\n",
    "#pattern: 'step_name__parameter_name'\n",
    "#parameter C & gamma from step SVC:\n",
    "parameters = {'SVC__C': [1, 10, 100], \n",
    "             'SVC__gamma': [0.1, 0.01]}\n",
    "\n",
    "#train test split\n",
    "#grid search cv, default for cv is 3\n",
    "cv = GridSearchCV(pipeline, param_grid = parameters)\n",
    "\n",
    "#fit to train data\n",
    "cv.fit(x_train, y_train)\n",
    "\n",
    "#predict test\n",
    "y_pred = cv.predict(x_test)\n",
    "\n",
    "#accuracy\n",
    "print(cv.score(x_test, y_test))\n",
    "#classification report\n",
    "print(classification_report(y_test, y_pred))\n",
    "#tuned parameters\n",
    "cv.best_params_"
   ]
  },
  {
   "cell_type": "markdown",
   "metadata": {},
   "source": [
    "# Ensemble methods<a id='hd9'></a>"
   ]
  },
  {
   "cell_type": "code",
   "execution_count": 31,
   "metadata": {},
   "outputs": [
    {
     "name": "stdout",
     "output_type": "stream",
     "text": [
      "0.5736434108527132\n",
      "              precision    recall  f1-score   support\n",
      "\n",
      "           0       0.78      0.90      0.83       155\n",
      "           1       0.70      0.49      0.57        76\n",
      "\n",
      "    accuracy                           0.76       231\n",
      "   macro avg       0.74      0.69      0.70       231\n",
      "weighted avg       0.75      0.76      0.75       231\n",
      "\n"
     ]
    }
   ],
   "source": [
    "#voting\n",
    "#compare classifiers and choose the best one\n",
    "\n",
    "#individual models\n",
    "knn\n",
    "log_reg\n",
    "decision_tree\n",
    "\n",
    "#create & fit voting, specify list of str + estomator\n",
    "voting = VotingClassifier(estimators = [\n",
    "    ('knn', knn),\n",
    "    ('logistic_regression', log_reg),\n",
    "    ('decision_tree', decision_tree)\n",
    "])\n",
    "\n",
    "#fit to train data\n",
    "voting.fit(x_train, y_train)\n",
    "\n",
    "#predict\n",
    "y_pred = voting.predict(x_test)\n",
    "\n",
    "#F-1 score of voting classifier\n",
    "print(f1_score(y_test, y_pred))\n",
    "print(classification_report(y_test, y_pred))"
   ]
  },
  {
   "cell_type": "code",
   "execution_count": 32,
   "metadata": {},
   "outputs": [
    {
     "name": "stdout",
     "output_type": "stream",
     "text": [
      "0.7489177489177489\n"
     ]
    }
   ],
   "source": [
    "#averaging\n",
    "#combine models using averaging\n",
    "\n",
    "#list of str + estomator tuples\n",
    "estimators = [('knn', knn),\n",
    "              ('logistic_regression', log_reg),\n",
    "              ('decision_tree', decision_tree)]\n",
    "\n",
    "#averaging classifier\n",
    "averaging = VotingClassifier(estimators, voting = 'soft')\n",
    "\n",
    "averaging.fit(x_train, y_train)\n",
    "\n",
    "#evaluate performance, show combined accuracy\n",
    "y_pred_avg = averaging.predict(x_test)\n",
    "print(accuracy_score(y_test, y_pred_avg))"
   ]
  },
  {
   "cell_type": "code",
   "execution_count": 33,
   "metadata": {},
   "outputs": [
    {
     "name": "stdout",
     "output_type": "stream",
     "text": [
      "voting: 0.758, averaging: 0.723\n"
     ]
    }
   ],
   "source": [
    "#comparision of hard vs. soft voting\n",
    "estimators = [('knn', knn),\n",
    "              ('logistic_regression', log_reg),\n",
    "              ('decision_tree', decision_tree)]\n",
    "\n",
    "#voting classifier\n",
    "voting = VotingClassifier(estimators)\n",
    "voting.fit(x_train, y_train)\n",
    "\n",
    "#averaging classifier\n",
    "averaging = VotingClassifier(estimators, voting = 'soft')\n",
    "averaging.fit(x_train, y_train)\n",
    "\n",
    "#evaluate performance\n",
    "acc_voting = accuracy_score(y_test, voting.predict(x_test))\n",
    "acc_averaging = accuracy_score(y_test, averaging.predict(x_test))\n",
    "\n",
    "print('voting: {:.3f}, averaging: {:.3f}'.format(acc_voting, acc_averaging))"
   ]
  },
  {
   "cell_type": "markdown",
   "metadata": {},
   "source": [
    "# Bagging<a id='hd10'></a>"
   ]
  },
  {
   "cell_type": "code",
   "execution_count": 34,
   "metadata": {},
   "outputs": [
    {
     "name": "stdout",
     "output_type": "stream",
     "text": [
      "Unrestricted Decision Tree\n",
      "[[123  32]\n",
      " [ 37  39]]\n",
      "0.5306122448979592\n",
      "\n",
      "Restricted Decision Tree\n",
      "[[138  17]\n",
      " [ 46  30]]\n",
      "0.48780487804878053\n"
     ]
    }
   ],
   "source": [
    "#compare restricted & unrestricted decision tree\n",
    "#identify weak model\n",
    "\n",
    "#unrestricted decision tree\n",
    "tree_unrestricted = DecisionTreeClassifier(min_samples_leaf = 3, min_samples_split = 7, random_state = 221)\n",
    "tree_unrestricted.fit (x_train, y_train)\n",
    "\n",
    "tree_unrestricted_pred = tree_unrestricted.predict(x_test)\n",
    "\n",
    "print('Unrestricted Decision Tree')\n",
    "print(confusion_matrix(y_test, tree_unrestricted_pred))\n",
    "print(f1_score(y_test, tree_unrestricted_pred))\n",
    "\n",
    "#restricted decision tree\n",
    "tree_restricted = DecisionTreeClassifier(max_depth = 4, max_features = 2, random_state = 221)\n",
    "tree_restricted.fit (x_train, y_train)\n",
    "\n",
    "tree_restricted_pred = tree_restricted.predict(x_test)\n",
    "\n",
    "print('\\nRestricted Decision Tree')\n",
    "print(confusion_matrix(y_test, tree_restricted_pred))\n",
    "print(f1_score(y_test, tree_restricted_pred))\n",
    "\n",
    "#restricted decision tree performes worse"
   ]
  },
  {
   "cell_type": "code",
   "execution_count": 35,
   "metadata": {},
   "outputs": [],
   "source": [
    "y_df = df['Outcome']\n",
    "x_df = df.drop('Outcome', axis=1)\n",
    "\n",
    "#ValueError: Input contains NaN, infinity or a value too large for dtype('float32')\n",
    "y_df = y_df.fillna(y_df.mean())\n",
    "x_df = x_df.fillna(x_df.mean())\n",
    "\n",
    "\n",
    "x_df_train, x_df_test, y_df_train, y_df_test = train_test_split(x_df, y_df, test_size = 0.3, random_state = 2, stratify = y)"
   ]
  },
  {
   "cell_type": "code",
   "execution_count": 36,
   "metadata": {},
   "outputs": [
    {
     "data": {
      "text/plain": [
       "DecisionTreeClassifier(max_depth=4, max_features=2, random_state=221)"
      ]
     },
     "execution_count": 36,
     "metadata": {},
     "output_type": "execute_result"
    }
   ],
   "source": [
    "#custom step by step, check how samples are drawn\n",
    "#weak classifier to be trained on a sample train set drawn with replacement\n",
    "\n",
    "#take a sample\n",
    "x_train_sample = x_df_train.sample(replace=True, frac = 1.0, random_state = 21)\n",
    "y_train_sample = y_df_train.loc[x_train_sample.index]\n",
    "\n",
    "#weak decision tree classifier\n",
    "tree = DecisionTreeClassifier(max_depth = 4, max_features = 2, random_state = 221)\n",
    "\n",
    "#fit\n",
    "tree.fit(x_train_sample, y_train_sample)"
   ]
  },
  {
   "cell_type": "code",
   "execution_count": 37,
   "metadata": {},
   "outputs": [
    {
     "name": "stdout",
     "output_type": "stream",
     "text": [
      "out-of-bag score: 0.7598\n",
      "accuracy: 0.7619\n",
      "f1 score: 0.6154\n"
     ]
    }
   ],
   "source": [
    "#bagging\n",
    "\n",
    "#base estimator, weak model\n",
    "tree = DecisionTreeClassifier(max_depth = 4)\n",
    "\n",
    "#build bagging classifier, base estimator - week model that will be built for each sample\n",
    "bag = BaggingClassifier(base_estimator = tree, \n",
    "                        n_estimators = 100, \n",
    "                        #turn on option to use out-of-bag score\n",
    "                        oob_score = True,\n",
    "                        random_state = 221)\n",
    "\n",
    "bag.fit(x_df_train, y_df_train)\n",
    "\n",
    "y_pred_bag = bag.predict(x_df_test)\n",
    "\n",
    "#show scores\n",
    "print('out-of-bag score: {:.4}'.format(bag.oob_score_))\n",
    "print('accuracy: {:.4}'.format( accuracy_score(y_df_test, y_pred_bag)))\n",
    "print('f1 score: {:.4}'.format(f1_score(y_df_test, y_pred_bag)))"
   ]
  },
  {
   "cell_type": "code",
   "execution_count": 38,
   "metadata": {},
   "outputs": [
    {
     "data": {
      "text/plain": [
       "0    500\n",
       "1    268\n",
       "Name: Outcome, dtype: int64"
      ]
     },
     "execution_count": 38,
     "metadata": {},
     "output_type": "execute_result"
    }
   ],
   "source": [
    "df['Outcome'].value_counts()"
   ]
  },
  {
   "cell_type": "code",
   "execution_count": 39,
   "metadata": {},
   "outputs": [
    {
     "name": "stdout",
     "output_type": "stream",
     "text": [
      "accuracy: 0.7532\n",
      "f1 score: 0.6503\n",
      "[[121  29]\n",
      " [ 28  53]]\n"
     ]
    }
   ],
   "source": [
    "#bagging\n",
    "#adjust hyperparameters\n",
    "#try balanced logistic regression - when target has a high class imbalance\n",
    "\n",
    "#balanced logistic regressor\n",
    "log_reg = LogisticRegression(class_weight = 'balanced', random_state = 21)\n",
    "#log_reg = LogisticRegression(class_weight = 'balanced', solver='lbfgs', max_iter=400)\n",
    "\n",
    "#bagging classifier\n",
    "bag = BaggingClassifier(base_estimator = log_reg,\n",
    "                        n_estimators = 200,\n",
    "                        #oob_score = True, #oob available only when bootstrap true\n",
    "                        #max no of features for each estimate\n",
    "                        max_features = 5,\n",
    "                        #% maximum samples\n",
    "                        max_samples = 0.65,\n",
    "                        #bootstrap to indicate samples drawn without replacement\n",
    "                        bootstrap = False, \n",
    "                        random_state = 221)\n",
    "\n",
    "bag.fit(x_df_train, y_df_train)\n",
    "\n",
    "#show scores\n",
    "y_pred_bag = bag.predict(x_df_test)\n",
    "\n",
    "print('accuracy: {:.4}'.format( accuracy_score(y_df_test, y_pred_bag)))\n",
    "print('f1 score: {:.4}'.format(f1_score(y_df_test, y_pred_bag)))\n",
    "print(confusion_matrix(y_df_test, y_pred_bag))"
   ]
  },
  {
   "cell_type": "code",
   "execution_count": null,
   "metadata": {},
   "outputs": [],
   "source": []
  }
 ],
 "metadata": {
  "kernelspec": {
   "display_name": "Python 3",
   "language": "python",
   "name": "python3"
  },
  "language_info": {
   "codemirror_mode": {
    "name": "ipython",
    "version": 3
   },
   "file_extension": ".py",
   "mimetype": "text/x-python",
   "name": "python",
   "nbconvert_exporter": "python",
   "pygments_lexer": "ipython3",
   "version": "3.7.6"
  }
 },
 "nbformat": 4,
 "nbformat_minor": 4
}
